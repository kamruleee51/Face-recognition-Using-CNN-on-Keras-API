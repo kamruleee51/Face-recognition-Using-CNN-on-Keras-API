{
 "cells": [
  {
   "cell_type": "code",
   "execution_count": 1,
   "metadata": {},
   "outputs": [
    {
     "name": "stderr",
     "output_type": "stream",
     "text": [
      "C:\\Users\\kamru\\Anaconda3\\lib\\site-packages\\h5py\\__init__.py:34: FutureWarning: Conversion of the second argument of issubdtype from `float` to `np.floating` is deprecated. In future, it will be treated as `np.float64 == np.dtype(float).type`.\n",
      "  from ._conv import register_converters as _register_converters\n",
      "Using TensorFlow backend.\n"
     ]
    }
   ],
   "source": [
    "from collections import defaultdict\n",
    "import os, glob, random, sys, time, keras, cv2, itertools, sklearn\n",
    "import matplotlib.pyplot as plt\n",
    "import numpy as np\n",
    "from sklearn.metrics import confusion_matrix\n",
    "from keras.preprocessing import image\n",
    "from sklearn.metrics import accuracy_score\n",
    "from keras.callbacks import ModelCheckpoint\n",
    "from keras.applications.vgg16 import VGG16, preprocess_input\n",
    "from keras.preprocessing.image import ImageDataGenerator\n",
    "from keras.optimizers import Adam\n",
    "from keras.models import Model\n",
    "from collections import Counter\n",
    "from matplotlib import pyplot as plt\n",
    "%matplotlib inline\n",
    "from sklearn.metrics import roc_curve, auc\n",
    "from scipy import interp\n",
    "from sklearn.metrics import classification_report\n",
    "from sklearn.metrics import precision_recall_curve, average_precision_score\n",
    "from sklearn.utils.fixes import signature\n",
    "from keras.utils import to_categorical\n",
    "from keras.datasets import fashion_mnist\n",
    "from keras.models import *\n",
    "from keras.layers import *\n",
    "from skimage import io\n",
    "from sklearn.model_selection import train_test_split"
   ]
  },
  {
   "cell_type": "code",
   "execution_count": 2,
   "metadata": {},
   "outputs": [
    {
     "name": "stdout",
     "output_type": "stream",
     "text": [
      "166\n",
      "(243, 320)\n",
      "uint8\n",
      "166\n",
      "[0, 0, 0, 0, 0, 0, 0, 0, 0, 0, 0, 0, 1, 1, 1, 1, 1, 1, 1, 1, 1, 1, 1, 2, 2, 2, 2, 2, 2, 2, 2, 2, 2, 2, 3, 3, 3, 3, 3, 3, 3, 3, 3, 3, 3, 4, 4, 4, 4, 4, 4, 4, 4, 4, 4, 4, 5, 5, 5, 5, 5, 5, 5, 5, 5, 5, 5, 6, 6, 6, 6, 6, 6, 6, 6, 6, 6, 6, 7, 7, 7, 7, 7, 7, 7, 7, 7, 7, 7, 8, 8, 8, 8, 8, 8, 8, 8, 8, 8, 8, 9, 9, 9, 9, 9, 9, 9, 9, 9, 9, 9, 10, 10, 10, 10, 10, 10, 10, 10, 10, 10, 10, 11, 11, 11, 11, 11, 11, 11, 11, 11, 11, 11, 12, 12, 12, 12, 12, 12, 12, 12, 12, 12, 12, 13, 13, 13, 13, 13, 13, 13, 13, 13, 13, 13, 14, 14, 14, 14, 14, 14, 14, 14, 14, 14, 14]\n"
     ]
    }
   ],
   "source": [
    "CurrentDir=os.getcwd()\n",
    "Dataset = os.listdir(CurrentDir+'/yalefacesData/')\n",
    "\n",
    "imageData = []\n",
    "imageLabels = []\n",
    "\n",
    "for file in Dataset:\n",
    "    if file!='Readme.txt':\n",
    "        fileRead=CurrentDir+'/yalefacesData/'+file\n",
    "#         print(fileRead)       \n",
    "        imgRead = io.imread(fileRead, as_grey=True)\n",
    "        imageData.append(imgRead)    \n",
    "        labelRead = int(os.path.split(file)[1].split(\".\")[0].replace(\"subject\", \"\")) - 1 # Parse class label from file\n",
    "        imageLabels.append(labelRead)\n",
    "print(len(imageData))\n",
    "print(imageData[0].shape)\n",
    "print(imageData[0].dtype)\n",
    "\n",
    "print(len(imageLabels))\n",
    "print(imageLabels)\n",
    "\n",
    "\n",
    "\n",
    "\n",
    "# Save the images in Test folder directory \n",
    "for i in range(len(imageData)):\n",
    "    image=imageData[i]\n",
    "    number='%03d'%i\n",
    "    path=CurrentDir+'/test/'+str(number)+'.png'\n",
    "    cv2.imwrite(path,image)"
   ]
  },
  {
   "cell_type": "code",
   "execution_count": 3,
   "metadata": {},
   "outputs": [],
   "source": [
    "faceDetectClassifier = cv2.CascadeClassifier(\"haarcascade_frontalface_default.xml\")"
   ]
  },
  {
   "cell_type": "code",
   "execution_count": 4,
   "metadata": {},
   "outputs": [],
   "source": [
    "imageDataFin = []\n",
    "for i in imageData:\n",
    "    facePoints = faceDetectClassifier.detectMultiScale(i)\n",
    "#     print(facePoints[0])\n",
    "    x,y = facePoints[0][:2]\n",
    "    cropped = i[y: y + 150, x: x + 150]\n",
    "    imageDataFin.append(cropped)"
   ]
  },
  {
   "cell_type": "code",
   "execution_count": 5,
   "metadata": {},
   "outputs": [
    {
     "data": {
      "text/plain": [
       "(150, 150)"
      ]
     },
     "execution_count": 5,
     "metadata": {},
     "output_type": "execute_result"
    }
   ],
   "source": [
    "imageDataFin[0].shape"
   ]
  },
  {
   "cell_type": "code",
   "execution_count": 6,
   "metadata": {
    "collapsed": true
   },
   "outputs": [],
   "source": [
    "c = np.array(imageDataFin)"
   ]
  },
  {
   "cell_type": "code",
   "execution_count": 7,
   "metadata": {},
   "outputs": [
    {
     "name": "stderr",
     "output_type": "stream",
     "text": [
      "C:\\Users\\kamru\\Anaconda3\\lib\\site-packages\\sklearn\\model_selection\\_split.py:2179: FutureWarning: From version 0.21, test_size will always complement train_size unless both are specified.\n",
      "  FutureWarning)\n"
     ]
    }
   ],
   "source": [
    "X_train, X_test, y_train, y_test = train_test_split(np.array(imageDataFin),\n",
    "                                                    np.array(imageLabels), \n",
    "                                                    train_size=0.9, \n",
    "                                                    random_state = 20)"
   ]
  },
  {
   "cell_type": "code",
   "execution_count": 8,
   "metadata": {},
   "outputs": [
    {
     "name": "stdout",
     "output_type": "stream",
     "text": [
      "(149, 150, 150)\n",
      "(17, 150, 150)\n"
     ]
    }
   ],
   "source": [
    "X_train = np.array(X_train)\n",
    "X_test = np.array(X_test)\n",
    "print(X_train.shape)\n",
    "print(X_test.shape)\n",
    "nb_classes = 15\n",
    "y_train = np.array(y_train) \n",
    "y_test = np.array(y_test)\n",
    "Y_train = to_categorical(y_train, nb_classes)\n",
    "Y_test = to_categorical(y_test, nb_classes)"
   ]
  },
  {
   "cell_type": "code",
   "execution_count": 9,
   "metadata": {},
   "outputs": [
    {
     "name": "stdout",
     "output_type": "stream",
     "text": [
      "Training matrix shape (149, 22500)\n",
      "Testing matrix shape (17, 22500)\n"
     ]
    }
   ],
   "source": [
    "X_train = X_train.reshape(149, 150*150)\n",
    "X_test = X_test.reshape(17, 150*150)\n",
    "\n",
    "X_train = X_train.astype('float32')\n",
    "X_test = X_test.astype('float32')\n",
    "\n",
    "X_train /= 255\n",
    "X_test /= 255\n",
    "\n",
    "print(\"Training matrix shape\", X_train.shape)\n",
    "print(\"Testing matrix shape\", X_test.shape)"
   ]
  },
  {
   "cell_type": "code",
   "execution_count": 10,
   "metadata": {},
   "outputs": [
    {
     "name": "stdout",
     "output_type": "stream",
     "text": [
      "_________________________________________________________________\n",
      "Layer (type)                 Output Shape              Param #   \n",
      "=================================================================\n",
      "dense_1 (Dense)              (None, 512)               11520512  \n",
      "_________________________________________________________________\n",
      "activation_1 (Activation)    (None, 512)               0         \n",
      "_________________________________________________________________\n",
      "dropout_1 (Dropout)          (None, 512)               0         \n",
      "_________________________________________________________________\n",
      "dense_2 (Dense)              (None, 512)               262656    \n",
      "_________________________________________________________________\n",
      "activation_2 (Activation)    (None, 512)               0         \n",
      "_________________________________________________________________\n",
      "dropout_2 (Dropout)          (None, 512)               0         \n",
      "_________________________________________________________________\n",
      "dense_3 (Dense)              (None, 15)                7695      \n",
      "_________________________________________________________________\n",
      "activation_3 (Activation)    (None, 15)                0         \n",
      "=================================================================\n",
      "Total params: 11,790,863\n",
      "Trainable params: 11,790,863\n",
      "Non-trainable params: 0\n",
      "_________________________________________________________________\n"
     ]
    }
   ],
   "source": [
    "model = Sequential()\n",
    "model.add(Dense(512,input_shape=(X_train.shape[1],)))\n",
    "model.add(Activation('relu'))\n",
    "model.add(Dropout(0.2))\n",
    "model.add(Dense(512))\n",
    "model.add(Activation('relu'))\n",
    "model.add(Dropout(0.2))\n",
    "model.add(Dense(nb_classes))\n",
    "model.add(Activation('softmax'))\n",
    "model.summary()"
   ]
  },
  {
   "cell_type": "code",
   "execution_count": 11,
   "metadata": {
    "collapsed": true
   },
   "outputs": [],
   "source": [
    "model.compile(loss='categorical_crossentropy', optimizer=\"adam\", metrics=['accuracy'])"
   ]
  },
  {
   "cell_type": "code",
   "execution_count": null,
   "metadata": {
    "collapsed": true
   },
   "outputs": [],
   "source": [
    "modelName='ModelSaved'\n",
    "SaveweightName= modelName+'.hdf5'\n",
    "SaveModelName=modelName+'.yaml'\n",
    "\n",
    "savedModel = ModelCheckpoint(SaveweightName,\n",
    "                            monitor='val_acc',\n",
    "                            verbose=1,\n",
    "                            save_best_only=True,\n",
    "                            mode='max')\n",
    "\n",
    "model_yaml = model.to_yaml()\n",
    "with open(SaveModelName, \"w\") as yaml_file:\n",
    "    yaml_file.write(model_yaml)"
   ]
  },
  {
   "cell_type": "code",
   "execution_count": 12,
   "metadata": {},
   "outputs": [
    {
     "name": "stderr",
     "output_type": "stream",
     "text": [
      "C:\\Users\\kamru\\Anaconda3\\lib\\site-packages\\ipykernel_launcher.py:5: UserWarning: The `nb_epoch` argument in `fit` has been renamed `epochs`.\n",
      "  \"\"\"\n"
     ]
    },
    {
     "name": "stdout",
     "output_type": "stream",
     "text": [
      "Train on 149 samples, validate on 17 samples\n",
      "Epoch 1/100\n",
      "149/149 [==============================] - 2s 13ms/step - loss: 5.6631 - acc: 0.0604 - val_loss: 9.4386 - val_acc: 0.0000e+00\n",
      "Epoch 2/100\n",
      "149/149 [==============================] - 0s 431us/step - loss: 10.1043 - acc: 0.1409 - val_loss: 7.5537 - val_acc: 0.1765\n",
      "Epoch 3/100\n",
      "149/149 [==============================] - 0s 430us/step - loss: 8.5375 - acc: 0.1946 - val_loss: 5.5420 - val_acc: 0.1765\n",
      "Epoch 4/100\n",
      "149/149 [==============================] - 0s 437us/step - loss: 8.3108 - acc: 0.1812 - val_loss: 4.8501 - val_acc: 0.3529\n",
      "Epoch 5/100\n",
      "149/149 [==============================] - 0s 434us/step - loss: 6.0851 - acc: 0.2886 - val_loss: 5.5333 - val_acc: 0.2353\n",
      "Epoch 6/100\n",
      "149/149 [==============================] - 0s 427us/step - loss: 4.5236 - acc: 0.4362 - val_loss: 4.0264 - val_acc: 0.4118\n",
      "Epoch 7/100\n",
      "149/149 [==============================] - 0s 434us/step - loss: 3.5991 - acc: 0.5503 - val_loss: 3.4710 - val_acc: 0.5882\n",
      "Epoch 8/100\n",
      "149/149 [==============================] - 0s 444us/step - loss: 2.7426 - acc: 0.6376 - val_loss: 3.6008 - val_acc: 0.5882\n",
      "Epoch 9/100\n",
      "149/149 [==============================] - 0s 424us/step - loss: 2.2819 - acc: 0.6376 - val_loss: 2.4244 - val_acc: 0.5882\n",
      "Epoch 10/100\n",
      "149/149 [==============================] - 0s 441us/step - loss: 1.3413 - acc: 0.6913 - val_loss: 1.9278 - val_acc: 0.4706\n",
      "Epoch 11/100\n",
      "149/149 [==============================] - 0s 421us/step - loss: 1.0178 - acc: 0.7181 - val_loss: 1.4062 - val_acc: 0.5294\n",
      "Epoch 12/100\n",
      "149/149 [==============================] - 0s 417us/step - loss: 0.8319 - acc: 0.7450 - val_loss: 1.0944 - val_acc: 0.6471\n",
      "Epoch 13/100\n",
      "149/149 [==============================] - 0s 441us/step - loss: 0.5748 - acc: 0.8456 - val_loss: 0.9201 - val_acc: 0.7647\n",
      "Epoch 14/100\n",
      "149/149 [==============================] - 0s 444us/step - loss: 0.4978 - acc: 0.8658 - val_loss: 0.9373 - val_acc: 0.7059\n",
      "Epoch 15/100\n",
      "149/149 [==============================] - 0s 437us/step - loss: 0.4550 - acc: 0.8523 - val_loss: 0.9020 - val_acc: 0.7647\n",
      "Epoch 16/100\n",
      "149/149 [==============================] - 0s 444us/step - loss: 0.2868 - acc: 0.8993 - val_loss: 0.7422 - val_acc: 0.8235\n",
      "Epoch 17/100\n",
      "149/149 [==============================] - 0s 424us/step - loss: 0.3556 - acc: 0.8792 - val_loss: 0.6242 - val_acc: 0.7059\n",
      "Epoch 18/100\n",
      "149/149 [==============================] - 0s 424us/step - loss: 0.2489 - acc: 0.9262 - val_loss: 0.9850 - val_acc: 0.6471\n",
      "Epoch 19/100\n",
      "149/149 [==============================] - 0s 424us/step - loss: 0.3395 - acc: 0.9128 - val_loss: 0.6792 - val_acc: 0.7059\n",
      "Epoch 20/100\n",
      "149/149 [==============================] - 0s 434us/step - loss: 0.1647 - acc: 0.9463 - val_loss: 0.7135 - val_acc: 0.7647\n",
      "Epoch 21/100\n",
      "149/149 [==============================] - 0s 431us/step - loss: 0.1811 - acc: 0.9732 - val_loss: 0.5216 - val_acc: 0.8235\n",
      "Epoch 22/100\n",
      "149/149 [==============================] - 0s 431us/step - loss: 0.2648 - acc: 0.9060 - val_loss: 0.4796 - val_acc: 0.8824\n",
      "Epoch 23/100\n",
      "149/149 [==============================] - 0s 431us/step - loss: 0.2022 - acc: 0.9262 - val_loss: 0.7735 - val_acc: 0.5294\n",
      "Epoch 24/100\n",
      "149/149 [==============================] - 0s 427us/step - loss: 0.2231 - acc: 0.9128 - val_loss: 0.8489 - val_acc: 0.7647\n",
      "Epoch 25/100\n",
      "149/149 [==============================] - 0s 437us/step - loss: 0.2467 - acc: 0.9060 - val_loss: 0.5956 - val_acc: 0.7647\n",
      "Epoch 26/100\n",
      "149/149 [==============================] - 0s 431us/step - loss: 0.1305 - acc: 0.9597 - val_loss: 0.5887 - val_acc: 0.8235\n",
      "Epoch 27/100\n",
      "149/149 [==============================] - 0s 437us/step - loss: 0.1956 - acc: 0.9530 - val_loss: 0.5674 - val_acc: 0.7647\n",
      "Epoch 28/100\n",
      "149/149 [==============================] - 0s 431us/step - loss: 0.1125 - acc: 0.9732 - val_loss: 0.5699 - val_acc: 0.7647\n",
      "Epoch 29/100\n",
      "149/149 [==============================] - 0s 434us/step - loss: 0.0878 - acc: 0.9866 - val_loss: 0.5696 - val_acc: 0.8235\n",
      "Epoch 30/100\n",
      "149/149 [==============================] - 0s 431us/step - loss: 0.1184 - acc: 0.9664 - val_loss: 0.6212 - val_acc: 0.8235\n",
      "Epoch 31/100\n",
      "149/149 [==============================] - 0s 417us/step - loss: 0.1129 - acc: 0.9597 - val_loss: 0.5108 - val_acc: 0.8824\n",
      "Epoch 32/100\n",
      "149/149 [==============================] - 0s 431us/step - loss: 0.0888 - acc: 0.9799 - val_loss: 0.4081 - val_acc: 0.8824\n",
      "Epoch 33/100\n",
      "149/149 [==============================] - 0s 427us/step - loss: 0.0654 - acc: 0.9799 - val_loss: 0.4754 - val_acc: 0.8235\n",
      "Epoch 34/100\n",
      "149/149 [==============================] - 0s 434us/step - loss: 0.0666 - acc: 0.9799 - val_loss: 0.6181 - val_acc: 0.8824\n",
      "Epoch 35/100\n",
      "149/149 [==============================] - 0s 437us/step - loss: 0.1041 - acc: 0.9799 - val_loss: 0.6898 - val_acc: 0.7647\n",
      "Epoch 36/100\n",
      "149/149 [==============================] - 0s 431us/step - loss: 0.0920 - acc: 0.9530 - val_loss: 0.7847 - val_acc: 0.8235\n",
      "Epoch 37/100\n",
      "149/149 [==============================] - 0s 437us/step - loss: 0.1179 - acc: 0.9463 - val_loss: 0.7355 - val_acc: 0.7647\n",
      "Epoch 38/100\n",
      "149/149 [==============================] - 0s 424us/step - loss: 0.0531 - acc: 0.9933 - val_loss: 0.6859 - val_acc: 0.8235\n",
      "Epoch 39/100\n",
      "149/149 [==============================] - 0s 424us/step - loss: 0.0824 - acc: 0.9933 - val_loss: 0.5142 - val_acc: 0.8824\n",
      "Epoch 40/100\n",
      "149/149 [==============================] - 0s 434us/step - loss: 0.0798 - acc: 0.9732 - val_loss: 0.4623 - val_acc: 0.8824\n",
      "Epoch 41/100\n",
      "149/149 [==============================] - 0s 424us/step - loss: 0.0462 - acc: 0.9866 - val_loss: 0.6097 - val_acc: 0.8824\n",
      "Epoch 42/100\n",
      "149/149 [==============================] - 0s 431us/step - loss: 0.0260 - acc: 1.0000 - val_loss: 0.9037 - val_acc: 0.8235\n",
      "Epoch 43/100\n",
      "149/149 [==============================] - 0s 416us/step - loss: 0.0590 - acc: 0.9866 - val_loss: 0.9160 - val_acc: 0.8235\n",
      "Epoch 44/100\n",
      "149/149 [==============================] - 0s 427us/step - loss: 0.0335 - acc: 0.9933 - val_loss: 0.6104 - val_acc: 0.8235\n",
      "Epoch 45/100\n",
      "149/149 [==============================] - 0s 430us/step - loss: 0.0761 - acc: 0.9799 - val_loss: 0.3787 - val_acc: 0.8824\n",
      "Epoch 46/100\n",
      "149/149 [==============================] - 0s 430us/step - loss: 0.0469 - acc: 0.9866 - val_loss: 0.2525 - val_acc: 0.9412\n",
      "Epoch 47/100\n",
      "149/149 [==============================] - 0s 434us/step - loss: 0.0592 - acc: 0.9799 - val_loss: 0.2323 - val_acc: 0.9412\n",
      "Epoch 48/100\n",
      "149/149 [==============================] - 0s 424us/step - loss: 0.0238 - acc: 1.0000 - val_loss: 0.3192 - val_acc: 0.9412\n",
      "Epoch 49/100\n",
      "149/149 [==============================] - 0s 424us/step - loss: 0.0265 - acc: 0.9933 - val_loss: 0.3990 - val_acc: 0.8824\n",
      "Epoch 50/100\n",
      "149/149 [==============================] - 0s 427us/step - loss: 0.0543 - acc: 0.9799 - val_loss: 0.4790 - val_acc: 0.8235\n",
      "Epoch 51/100\n",
      "149/149 [==============================] - 0s 434us/step - loss: 0.0498 - acc: 0.9866 - val_loss: 0.5300 - val_acc: 0.8235\n",
      "Epoch 52/100\n",
      "149/149 [==============================] - 0s 424us/step - loss: 0.0508 - acc: 0.9866 - val_loss: 0.4164 - val_acc: 0.8235\n",
      "Epoch 53/100\n",
      "149/149 [==============================] - 0s 431us/step - loss: 0.0452 - acc: 0.9866 - val_loss: 0.3005 - val_acc: 0.9412\n",
      "Epoch 54/100\n",
      "149/149 [==============================] - 0s 434us/step - loss: 0.0216 - acc: 0.9933 - val_loss: 0.2555 - val_acc: 0.9412\n",
      "Epoch 55/100\n",
      "149/149 [==============================] - 0s 437us/step - loss: 0.0269 - acc: 0.9933 - val_loss: 0.2027 - val_acc: 1.0000\n",
      "Epoch 56/100\n",
      "149/149 [==============================] - 0s 429us/step - loss: 0.0328 - acc: 0.9866 - val_loss: 0.2090 - val_acc: 0.8824\n",
      "Epoch 57/100\n",
      "149/149 [==============================] - 0s 437us/step - loss: 0.0355 - acc: 0.9866 - val_loss: 0.1937 - val_acc: 0.8824\n",
      "Epoch 58/100\n",
      "149/149 [==============================] - 0s 434us/step - loss: 0.0186 - acc: 0.9933 - val_loss: 0.2080 - val_acc: 0.9412\n",
      "Epoch 59/100\n",
      "149/149 [==============================] - 0s 431us/step - loss: 0.0345 - acc: 0.9866 - val_loss: 0.2181 - val_acc: 0.9412\n",
      "Epoch 60/100\n",
      "149/149 [==============================] - 0s 428us/step - loss: 0.0215 - acc: 0.9933 - val_loss: 0.2493 - val_acc: 0.9412\n"
     ]
    },
    {
     "name": "stdout",
     "output_type": "stream",
     "text": [
      "Epoch 61/100\n",
      "149/149 [==============================] - 0s 424us/step - loss: 0.0114 - acc: 1.0000 - val_loss: 0.2552 - val_acc: 0.9412\n",
      "Epoch 62/100\n",
      "149/149 [==============================] - 0s 448us/step - loss: 0.0136 - acc: 0.9933 - val_loss: 0.2424 - val_acc: 0.9412\n",
      "Epoch 63/100\n",
      "149/149 [==============================] - 0s 430us/step - loss: 0.0335 - acc: 0.9933 - val_loss: 0.2997 - val_acc: 0.8824\n",
      "Epoch 64/100\n",
      "149/149 [==============================] - 0s 431us/step - loss: 0.0093 - acc: 1.0000 - val_loss: 0.3326 - val_acc: 0.8824\n",
      "Epoch 65/100\n",
      "149/149 [==============================] - 0s 441us/step - loss: 0.0064 - acc: 1.0000 - val_loss: 0.3503 - val_acc: 0.9412\n",
      "Epoch 66/100\n",
      "149/149 [==============================] - 0s 437us/step - loss: 0.0098 - acc: 1.0000 - val_loss: 0.3482 - val_acc: 0.8824\n",
      "Epoch 67/100\n",
      "149/149 [==============================] - 0s 451us/step - loss: 0.0033 - acc: 1.0000 - val_loss: 0.3662 - val_acc: 0.8824\n",
      "Epoch 68/100\n",
      "149/149 [==============================] - 0s 451us/step - loss: 0.0268 - acc: 0.9866 - val_loss: 0.3662 - val_acc: 0.8824\n",
      "Epoch 69/100\n",
      "149/149 [==============================] - 0s 458us/step - loss: 0.0078 - acc: 1.0000 - val_loss: 0.3892 - val_acc: 0.8824\n",
      "Epoch 70/100\n",
      "149/149 [==============================] - 0s 461us/step - loss: 0.0104 - acc: 1.0000 - val_loss: 0.4215 - val_acc: 0.8824\n",
      "Epoch 71/100\n",
      "149/149 [==============================] - 0s 441us/step - loss: 0.0082 - acc: 1.0000 - val_loss: 0.4280 - val_acc: 0.8824\n",
      "Epoch 72/100\n",
      "149/149 [==============================] - 0s 431us/step - loss: 0.0109 - acc: 1.0000 - val_loss: 0.3752 - val_acc: 0.8824\n",
      "Epoch 73/100\n",
      "149/149 [==============================] - 0s 437us/step - loss: 0.0063 - acc: 1.0000 - val_loss: 0.2744 - val_acc: 0.8824\n",
      "Epoch 74/100\n",
      "149/149 [==============================] - 0s 429us/step - loss: 0.0091 - acc: 0.9933 - val_loss: 0.2118 - val_acc: 0.8824\n",
      "Epoch 75/100\n",
      "149/149 [==============================] - 0s 434us/step - loss: 0.0036 - acc: 1.0000 - val_loss: 0.2026 - val_acc: 0.9412\n",
      "Epoch 76/100\n",
      "149/149 [==============================] - 0s 437us/step - loss: 0.0134 - acc: 0.9933 - val_loss: 0.2254 - val_acc: 0.9412\n",
      "Epoch 77/100\n",
      "149/149 [==============================] - 0s 441us/step - loss: 0.0217 - acc: 0.9933 - val_loss: 0.2735 - val_acc: 0.9412\n",
      "Epoch 78/100\n",
      "149/149 [==============================] - 0s 446us/step - loss: 0.0103 - acc: 1.0000 - val_loss: 0.2677 - val_acc: 0.9412\n",
      "Epoch 79/100\n",
      "149/149 [==============================] - 0s 444us/step - loss: 0.0088 - acc: 1.0000 - val_loss: 0.2859 - val_acc: 0.8235\n",
      "Epoch 80/100\n",
      "149/149 [==============================] - 0s 448us/step - loss: 0.0049 - acc: 1.0000 - val_loss: 0.2906 - val_acc: 0.8235\n",
      "Epoch 81/100\n",
      "149/149 [==============================] - 0s 434us/step - loss: 0.0190 - acc: 0.9933 - val_loss: 0.2585 - val_acc: 0.9412\n",
      "Epoch 82/100\n",
      "149/149 [==============================] - 0s 427us/step - loss: 0.0077 - acc: 1.0000 - val_loss: 0.2700 - val_acc: 0.9412\n",
      "Epoch 83/100\n",
      "149/149 [==============================] - 0s 431us/step - loss: 0.0058 - acc: 1.0000 - val_loss: 0.2999 - val_acc: 0.9412\n",
      "Epoch 84/100\n",
      "149/149 [==============================] - 0s 437us/step - loss: 0.0070 - acc: 1.0000 - val_loss: 0.3155 - val_acc: 0.9412\n",
      "Epoch 85/100\n",
      "149/149 [==============================] - 0s 451us/step - loss: 0.0037 - acc: 1.0000 - val_loss: 0.3144 - val_acc: 0.9412\n",
      "Epoch 86/100\n",
      "149/149 [==============================] - 0s 448us/step - loss: 0.0044 - acc: 1.0000 - val_loss: 0.2993 - val_acc: 0.9412\n",
      "Epoch 87/100\n",
      "149/149 [==============================] - 0s 451us/step - loss: 0.0050 - acc: 1.0000 - val_loss: 0.2777 - val_acc: 0.9412\n",
      "Epoch 88/100\n",
      "149/149 [==============================] - 0s 447us/step - loss: 0.0034 - acc: 1.0000 - val_loss: 0.2458 - val_acc: 0.9412\n",
      "Epoch 89/100\n",
      "149/149 [==============================] - 0s 434us/step - loss: 0.0110 - acc: 1.0000 - val_loss: 0.2035 - val_acc: 0.9412\n",
      "Epoch 90/100\n",
      "149/149 [==============================] - 0s 431us/step - loss: 0.0052 - acc: 1.0000 - val_loss: 0.2063 - val_acc: 0.9412\n",
      "Epoch 91/100\n",
      "149/149 [==============================] - 0s 431us/step - loss: 0.0015 - acc: 1.0000 - val_loss: 0.2204 - val_acc: 0.9412\n",
      "Epoch 92/100\n",
      "149/149 [==============================] - 0s 427us/step - loss: 0.0016 - acc: 1.0000 - val_loss: 0.2417 - val_acc: 0.9412\n",
      "Epoch 93/100\n",
      "149/149 [==============================] - 0s 434us/step - loss: 0.0035 - acc: 1.0000 - val_loss: 0.2563 - val_acc: 0.8824\n",
      "Epoch 94/100\n",
      "149/149 [==============================] - 0s 431us/step - loss: 0.0069 - acc: 1.0000 - val_loss: 0.3165 - val_acc: 0.8235\n",
      "Epoch 95/100\n",
      "149/149 [==============================] - 0s 441us/step - loss: 0.0031 - acc: 1.0000 - val_loss: 0.4854 - val_acc: 0.8824\n",
      "Epoch 96/100\n",
      "149/149 [==============================] - 0s 424us/step - loss: 0.0303 - acc: 0.9933 - val_loss: 0.5222 - val_acc: 0.8824\n",
      "Epoch 97/100\n",
      "149/149 [==============================] - 0s 421us/step - loss: 0.0163 - acc: 1.0000 - val_loss: 0.4710 - val_acc: 0.8235\n",
      "Epoch 98/100\n",
      "149/149 [==============================] - 0s 434us/step - loss: 0.0073 - acc: 1.0000 - val_loss: 0.4283 - val_acc: 0.8235\n",
      "Epoch 99/100\n",
      "149/149 [==============================] - 0s 458us/step - loss: 0.0057 - acc: 1.0000 - val_loss: 0.4129 - val_acc: 0.8824\n",
      "Epoch 100/100\n",
      "149/149 [==============================] - 0s 444us/step - loss: 0.0257 - acc: 0.9933 - val_loss: 0.4255 - val_acc: 0.8824\n"
     ]
    }
   ],
   "source": [
    "history=model.fit(X_train, Y_train,\n",
    "                  batch_size=64, \n",
    "                  nb_epoch=100, \n",
    "                  verbose=1, \n",
    "                  validation_data=(X_test, Y_test)\n",
    "                 callbacks= [savedModel])"
   ]
  },
  {
   "cell_type": "code",
   "execution_count": 13,
   "metadata": {},
   "outputs": [
    {
     "name": "stderr",
     "output_type": "stream",
     "text": [
      "C:\\Users\\kamru\\Anaconda3\\lib\\site-packages\\matplotlib\\cbook\\deprecation.py:107: MatplotlibDeprecationWarning: Passing one of 'on', 'true', 'off', 'false' as a boolean is deprecated; use an actual boolean (True/False) instead.\n",
      "  warnings.warn(message, mplDeprecation, stacklevel=1)\n"
     ]
    },
    {
     "data": {
      "image/png": "[encoded data removed]",
      "text/plain": [
       "<Figure size 432x288 with 1 Axes>"
      ]
     },
     "metadata": {},
     "output_type": "display_data"
    },
    {
     "data": {
      "image/png": "[encoded data removed]",
      "text/plain": [
       "<Figure size 432x288 with 1 Axes>"
      ]
     },
     "metadata": {},
     "output_type": "display_data"
    }
   ],
   "source": [
    "# plotting the metrics\n",
    "plt.figure()\n",
    "plt.plot(history.history['acc'])\n",
    "plt.plot(history.history['val_acc'])\n",
    "plt.title('model accuracy')\n",
    "plt.ylabel('accuracy')\n",
    "plt.xlabel('epoch')\n",
    "plt.grid('on')\n",
    "plt.legend(['train', 'test'], loc='lower right')\n",
    "\n",
    "\n",
    "\n",
    "plt.figure()\n",
    "plt.plot(history.history['loss'])\n",
    "plt.plot(history.history['val_loss'])\n",
    "plt.title('model loss')\n",
    "plt.ylabel('loss')\n",
    "plt.grid('on')\n",
    "plt.xlabel('epoch')\n",
    "plt.legend(['train', 'test'], loc='upper right')\n",
    "plt.tight_layout()"
   ]
  },
  {
   "cell_type": "code",
   "execution_count": 14,
   "metadata": {},
   "outputs": [
    {
     "name": "stdout",
     "output_type": "stream",
     "text": [
      "17/17 [==============================] - 0s 295us/step\n",
      "Test loss: 0.4255274832248688\n",
      "Test accuracy: 0.8823529481887817\n"
     ]
    }
   ],
   "source": [
    "score = model.evaluate(X_test, Y_test, verbose=1)\n",
    "print('Test loss:', score[0]) \n",
    "print('Test accuracy:', score[1])"
   ]
  },
  {
   "cell_type": "code",
   "execution_count": 15,
   "metadata": {},
   "outputs": [
    {
     "name": "stdout",
     "output_type": "stream",
     "text": [
      "[ 1  2  3  4  5  6  7  8  9 10 11 12 13 15 16]\n",
      "[ 0 14]\n"
     ]
    }
   ],
   "source": [
    "\n",
    "predicted_classes = model.predict_classes(X_test)\n",
    "correct_classified_indices = np.nonzero(predicted_classes == y_test)[0]\n",
    "incorrect_classified_indices = np.nonzero(predicted_classes != y_test)[0]\n",
    "print(correct_classified_indices)\n",
    "print(incorrect_classified_indices)"
   ]
  },
  {
   "cell_type": "code",
   "execution_count": null,
   "metadata": {
    "collapsed": true
   },
   "outputs": [],
   "source": []
  }
 ],
 "metadata": {
  "kernelspec": {
   "display_name": "Python 3",
   "language": "python",
   "name": "python3"
  },
  "language_info": {
   "codemirror_mode": {
    "name": "ipython",
    "version": 3
   },
   "file_extension": ".py",
   "mimetype": "text/x-python",
   "name": "python",
   "nbconvert_exporter": "python",
   "pygments_lexer": "ipython3",
   "version": "3.6.3"
  }
 },
 "nbformat": 4,
 "nbformat_minor": 2
}
