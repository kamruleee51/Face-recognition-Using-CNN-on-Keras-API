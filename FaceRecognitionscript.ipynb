{
 "cells": [
  {
   "cell_type": "code",
   "execution_count": 1,
   "metadata": {},
   "outputs": [
    {
     "name": "stderr",
     "output_type": "stream",
     "text": [
      "C:\\Users\\kamru\\Anaconda3\\lib\\site-packages\\h5py\\__init__.py:34: FutureWarning: Conversion of the second argument of issubdtype from `float` to `np.floating` is deprecated. In future, it will be treated as `np.float64 == np.dtype(float).type`.\n",
      "  from ._conv import register_converters as _register_converters\n",
      "Using TensorFlow backend.\n"
     ]
    }
   ],
   "source": [
    "from collections import defaultdict\n",
    "import os, glob, random, sys, time, keras, cv2, itertools, sklearn\n",
    "import matplotlib.pyplot as plt\n",
    "import numpy as np\n",
    "from sklearn.metrics import confusion_matrix\n",
    "from keras.preprocessing import image\n",
    "from sklearn.metrics import accuracy_score\n",
    "from keras.callbacks import ModelCheckpoint\n",
    "from keras.applications.vgg16 import VGG16, preprocess_input\n",
    "from keras.preprocessing.image import ImageDataGenerator\n",
    "from keras.optimizers import Adam\n",
    "from keras.models import Model\n",
    "from collections import Counter\n",
    "from matplotlib import pyplot as plt\n",
    "%matplotlib inline\n",
    "from sklearn.metrics import roc_curve, auc\n",
    "from scipy import interp\n",
    "from sklearn.metrics import classification_report\n",
    "from sklearn.metrics import precision_recall_curve, average_precision_score\n",
    "from sklearn.utils.fixes import signature\n",
    "from keras.utils import to_categorical\n",
    "from keras.datasets import fashion_mnist\n",
    "from keras.models import *\n",
    "from keras.layers import *\n",
    "from skimage import io\n",
    "from sklearn.model_selection import train_test_split"
   ]
  },
  {
   "cell_type": "code",
   "execution_count": 2,
   "metadata": {},
   "outputs": [
    {
     "name": "stdout",
     "output_type": "stream",
     "text": [
      "166\n",
      "(243, 320)\n",
      "uint8\n",
      "166\n",
      "[0, 0, 0, 0, 0, 0, 0, 0, 0, 0, 0, 0, 1, 1, 1, 1, 1, 1, 1, 1, 1, 1, 1, 2, 2, 2, 2, 2, 2, 2, 2, 2, 2, 2, 3, 3, 3, 3, 3, 3, 3, 3, 3, 3, 3, 4, 4, 4, 4, 4, 4, 4, 4, 4, 4, 4, 5, 5, 5, 5, 5, 5, 5, 5, 5, 5, 5, 6, 6, 6, 6, 6, 6, 6, 6, 6, 6, 6, 7, 7, 7, 7, 7, 7, 7, 7, 7, 7, 7, 8, 8, 8, 8, 8, 8, 8, 8, 8, 8, 8, 9, 9, 9, 9, 9, 9, 9, 9, 9, 9, 9, 10, 10, 10, 10, 10, 10, 10, 10, 10, 10, 10, 11, 11, 11, 11, 11, 11, 11, 11, 11, 11, 11, 12, 12, 12, 12, 12, 12, 12, 12, 12, 12, 12, 13, 13, 13, 13, 13, 13, 13, 13, 13, 13, 13, 14, 14, 14, 14, 14, 14, 14, 14, 14, 14, 14]\n"
     ]
    }
   ],
   "source": [
    "CurrentDir=os.getcwd()\n",
    "Dataset = os.listdir(CurrentDir+'/yalefacesData/')\n",
    "\n",
    "imageData = []\n",
    "imageLabels = []\n",
    "\n",
    "for file in Dataset:\n",
    "    if file!='Readme.txt':\n",
    "        fileRead=CurrentDir+'/yalefacesData/'+file\n",
    "#         print(fileRead)       \n",
    "        imgRead = io.imread(fileRead, as_grey=True)\n",
    "        imageData.append(imgRead)    \n",
    "        labelRead = int(os.path.split(file)[1].split(\".\")[0].replace(\"subject\", \"\")) - 1 # Parse class label from file\n",
    "        imageLabels.append(labelRead)\n",
    "print(len(imageData))\n",
    "print(imageData[0].shape)\n",
    "print(imageData[0].dtype)\n",
    "\n",
    "print(len(imageLabels))\n",
    "print(imageLabels)\n",
    "\n",
    "\n",
    "\n",
    "\n",
    "# Save the images in Test folder directory \n",
    "for i in range(len(imageData)):\n",
    "    image=imageData[i]\n",
    "    number='%03d'%i\n",
    "    path=CurrentDir+'/test/'+str(number)+'.png'\n",
    "    cv2.imwrite(path,image)"
   ]
  },
  {
   "cell_type": "code",
   "execution_count": 3,
   "metadata": {},
   "outputs": [],
   "source": [
    "faceDetectClassifier = cv2.CascadeClassifier(\"haarcascade_frontalface_default.xml\")"
   ]
  },
  {
   "cell_type": "code",
   "execution_count": 10,
   "metadata": {},
   "outputs": [],
   "source": [
    "imageDataFin = []\n",
    "for i in imageData:\n",
    "    facePoints = faceDetectClassifier.detectMultiScale(i)\n",
    "#     print(facePoints[0])\n",
    "    x,y = facePoints[0][:2]\n",
    "    cropped = i[y: y + 150, x: x + 150]\n",
    "    imageDataFin.append(cropped)"
   ]
  },
  {
   "cell_type": "code",
   "execution_count": 7,
   "metadata": {},
   "outputs": [
    {
     "data": {
      "text/plain": [
       "(150, 150)"
      ]
     },
     "execution_count": 7,
     "metadata": {},
     "output_type": "execute_result"
    }
   ],
   "source": [
    "imageDataFin[0].shape"
   ]
  },
  {
   "cell_type": "code",
   "execution_count": 11,
   "metadata": {
    "collapsed": true
   },
   "outputs": [],
   "source": [
    "c = np.array(imageDataFin)"
   ]
  },
  {
   "cell_type": "code",
   "execution_count": 12,
   "metadata": {},
   "outputs": [
    {
     "name": "stderr",
     "output_type": "stream",
     "text": [
      "C:\\Users\\kamru\\Anaconda3\\lib\\site-packages\\sklearn\\model_selection\\_split.py:2179: FutureWarning: From version 0.21, test_size will always complement train_size unless both are specified.\n",
      "  FutureWarning)\n"
     ]
    }
   ],
   "source": [
    "X_train, X_test, y_train, y_test = train_test_split(np.array(imageDataFin),\n",
    "                                                    np.array(imageLabels), \n",
    "                                                    train_size=0.9, \n",
    "                                                    random_state = 20)"
   ]
  },
  {
   "cell_type": "code",
   "execution_count": 20,
   "metadata": {},
   "outputs": [
    {
     "name": "stdout",
     "output_type": "stream",
     "text": [
      "(149, 150, 150)\n",
      "(17, 150, 150)\n"
     ]
    }
   ],
   "source": [
    "X_train = np.array(X_train)\n",
    "X_test = np.array(X_test)\n",
    "print(X_train.shape)\n",
    "print(X_test.shape)\n",
    "nb_classes = 15\n",
    "y_train = np.array(y_train) \n",
    "y_test = np.array(y_test)\n",
    "Y_train = to_categorical(y_train, nb_classes)\n",
    "Y_test = to_categorical(y_test, nb_classes)"
   ]
  },
  {
   "cell_type": "code",
   "execution_count": 23,
   "metadata": {},
   "outputs": [
    {
     "name": "stdout",
     "output_type": "stream",
     "text": [
      "Training matrix shape (149, 22500)\n",
      "Testing matrix shape (17, 22500)\n"
     ]
    }
   ],
   "source": [
    "X_train = X_train.reshape(149, 150*150)\n",
    "X_test = X_test.reshape(17, 150*150)\n",
    "\n",
    "X_train = X_train.astype('float32')\n",
    "X_test = X_test.astype('float32')\n",
    "\n",
    "X_train /= 255\n",
    "X_test /= 255\n",
    "\n",
    "print(\"Training matrix shape\", X_train.shape)\n",
    "print(\"Testing matrix shape\", X_test.shape)"
   ]
  },
  {
   "cell_type": "code",
   "execution_count": 25,
   "metadata": {},
   "outputs": [
    {
     "name": "stdout",
     "output_type": "stream",
     "text": [
      "_________________________________________________________________\n",
      "Layer (type)                 Output Shape              Param #   \n",
      "=================================================================\n",
      "dense_4 (Dense)              (None, 512)               11520512  \n",
      "_________________________________________________________________\n",
      "activation_4 (Activation)    (None, 512)               0         \n",
      "_________________________________________________________________\n",
      "dropout_3 (Dropout)          (None, 512)               0         \n",
      "_________________________________________________________________\n",
      "dense_5 (Dense)              (None, 512)               262656    \n",
      "_________________________________________________________________\n",
      "activation_5 (Activation)    (None, 512)               0         \n",
      "_________________________________________________________________\n",
      "dropout_4 (Dropout)          (None, 512)               0         \n",
      "_________________________________________________________________\n",
      "dense_6 (Dense)              (None, 15)                7695      \n",
      "_________________________________________________________________\n",
      "activation_6 (Activation)    (None, 15)                0         \n",
      "=================================================================\n",
      "Total params: 11,790,863\n",
      "Trainable params: 11,790,863\n",
      "Non-trainable params: 0\n",
      "_________________________________________________________________\n"
     ]
    }
   ],
   "source": [
    "model = Sequential()\n",
    "model.add(Dense(512,input_shape=(X_train.shape[1],)))\n",
    "model.add(Activation('relu'))\n",
    "model.add(Dropout(0.2))\n",
    "model.add(Dense(512))\n",
    "model.add(Activation('relu'))\n",
    "model.add(Dropout(0.2))\n",
    "model.add(Dense(nb_classes))\n",
    "model.add(Activation('softmax'))\n",
    "model.summary()"
   ]
  },
  {
   "cell_type": "code",
   "execution_count": 26,
   "metadata": {
    "collapsed": true
   },
   "outputs": [],
   "source": [
    "model.compile(loss='categorical_crossentropy', optimizer=\"adam\", metrics=['accuracy'])"
   ]
  },
  {
   "cell_type": "code",
   "execution_count": 27,
   "metadata": {},
   "outputs": [
    {
     "name": "stderr",
     "output_type": "stream",
     "text": [
      "C:\\Users\\kamru\\Anaconda3\\lib\\site-packages\\ipykernel_launcher.py:1: UserWarning: The `nb_epoch` argument in `fit` has been renamed `epochs`.\n",
      "  \"\"\"Entry point for launching an IPython kernel.\n"
     ]
    },
    {
     "name": "stdout",
     "output_type": "stream",
     "text": [
      "Train on 149 samples, validate on 17 samples\n",
      "Epoch 1/50\n",
      "149/149 [==============================] - 5s 30ms/step - loss: 2.7082 - acc: 0.0336 - val_loss: 2.7119 - val_acc: 0.0000e+00\n",
      "Epoch 2/50\n",
      "149/149 [==============================] - 0s 468us/step - loss: 2.7080 - acc: 0.0940 - val_loss: 2.7154 - val_acc: 0.0000e+00\n",
      "Epoch 3/50\n",
      "149/149 [==============================] - 0s 471us/step - loss: 2.7071 - acc: 0.0805 - val_loss: 2.7190 - val_acc: 0.0000e+00\n",
      "Epoch 4/50\n",
      "149/149 [==============================] - 0s 444us/step - loss: 2.7067 - acc: 0.0604 - val_loss: 2.7230 - val_acc: 0.0000e+00\n",
      "Epoch 5/50\n",
      "149/149 [==============================] - 0s 437us/step - loss: 2.7062 - acc: 0.0671 - val_loss: 2.7276 - val_acc: 0.0000e+00\n",
      "Epoch 6/50\n",
      "149/149 [==============================] - 0s 447us/step - loss: 2.7056 - acc: 0.1007 - val_loss: 2.7325 - val_acc: 0.0000e+00\n",
      "Epoch 7/50\n",
      "149/149 [==============================] - 0s 451us/step - loss: 2.7061 - acc: 0.0872 - val_loss: 2.7369 - val_acc: 0.0000e+00\n",
      "Epoch 8/50\n",
      "149/149 [==============================] - 0s 451us/step - loss: 2.7046 - acc: 0.0738 - val_loss: 2.7416 - val_acc: 0.0000e+00\n",
      "Epoch 9/50\n",
      "149/149 [==============================] - 0s 438us/step - loss: 2.7042 - acc: 0.0805 - val_loss: 2.7455 - val_acc: 0.0000e+00\n",
      "Epoch 10/50\n",
      "149/149 [==============================] - 0s 441us/step - loss: 2.7053 - acc: 0.0537 - val_loss: 2.7487 - val_acc: 0.0000e+00\n",
      "Epoch 11/50\n",
      "149/149 [==============================] - 0s 437us/step - loss: 2.7053 - acc: 0.0671 - val_loss: 2.7512 - val_acc: 0.0000e+00\n",
      "Epoch 12/50\n",
      "149/149 [==============================] - 0s 448us/step - loss: 2.7042 - acc: 0.0604 - val_loss: 2.7557 - val_acc: 0.0000e+00\n",
      "Epoch 13/50\n",
      "149/149 [==============================] - ETA: 0s - loss: 2.6978 - acc: 0.093 - 0s 437us/step - loss: 2.7025 - acc: 0.0738 - val_loss: 2.7603 - val_acc: 0.0000e+00\n",
      "Epoch 14/50\n",
      "149/149 [==============================] - 0s 451us/step - loss: 2.7026 - acc: 0.1007 - val_loss: 2.7653 - val_acc: 0.0000e+00\n",
      "Epoch 15/50\n",
      "149/149 [==============================] - 0s 444us/step - loss: 2.7023 - acc: 0.0805 - val_loss: 2.7697 - val_acc: 0.0000e+00\n",
      "Epoch 16/50\n",
      "149/149 [==============================] - 0s 444us/step - loss: 2.7032 - acc: 0.0604 - val_loss: 2.7753 - val_acc: 0.0000e+00\n",
      "Epoch 17/50\n",
      "149/149 [==============================] - 0s 454us/step - loss: 2.7026 - acc: 0.1007 - val_loss: 2.7809 - val_acc: 0.0000e+00\n",
      "Epoch 18/50\n",
      "149/149 [==============================] - 0s 444us/step - loss: 2.7023 - acc: 0.0805 - val_loss: 2.7857 - val_acc: 0.0000e+00\n",
      "Epoch 19/50\n",
      "149/149 [==============================] - 0s 448us/step - loss: 2.7027 - acc: 0.0671 - val_loss: 2.7896 - val_acc: 0.0000e+00\n",
      "Epoch 20/50\n",
      "149/149 [==============================] - 0s 424us/step - loss: 2.7037 - acc: 0.0805 - val_loss: 2.7932 - val_acc: 0.0000e+00\n",
      "Epoch 21/50\n",
      "149/149 [==============================] - 0s 425us/step - loss: 2.7026 - acc: 0.0805 - val_loss: 2.7977 - val_acc: 0.0000e+00\n",
      "Epoch 22/50\n",
      "149/149 [==============================] - 0s 468us/step - loss: 2.7019 - acc: 0.0805 - val_loss: 2.7977 - val_acc: 0.0000e+00\n",
      "Epoch 23/50\n",
      "149/149 [==============================] - 0s 454us/step - loss: 2.7030 - acc: 0.0738 - val_loss: 2.7952 - val_acc: 0.0000e+00\n",
      "Epoch 24/50\n",
      "149/149 [==============================] - 0s 445us/step - loss: 2.7032 - acc: 0.0805 - val_loss: 2.7933 - val_acc: 0.0000e+00\n",
      "Epoch 25/50\n",
      "149/149 [==============================] - 0s 441us/step - loss: 2.7017 - acc: 0.0805 - val_loss: 2.7931 - val_acc: 0.0000e+00\n",
      "Epoch 26/50\n",
      "149/149 [==============================] - 0s 441us/step - loss: 2.7012 - acc: 0.0872 - val_loss: 2.7938 - val_acc: 0.0000e+00\n",
      "Epoch 27/50\n",
      "149/149 [==============================] - 0s 444us/step - loss: 2.7030 - acc: 0.0805 - val_loss: 2.7969 - val_acc: 0.0000e+00\n",
      "Epoch 28/50\n",
      "149/149 [==============================] - 0s 447us/step - loss: 2.7012 - acc: 0.0805 - val_loss: 2.7982 - val_acc: 0.0000e+00\n",
      "Epoch 29/50\n",
      "149/149 [==============================] - 0s 447us/step - loss: 2.7017 - acc: 0.0805 - val_loss: 2.7978 - val_acc: 0.0000e+00\n",
      "Epoch 30/50\n",
      "149/149 [==============================] - 0s 427us/step - loss: 2.7025 - acc: 0.0738 - val_loss: 2.7986 - val_acc: 0.0000e+00\n",
      "Epoch 31/50\n",
      "149/149 [==============================] - 0s 428us/step - loss: 2.7018 - acc: 0.0805 - val_loss: 2.8016 - val_acc: 0.0000e+00\n",
      "Epoch 32/50\n",
      "149/149 [==============================] - 0s 451us/step - loss: 2.7014 - acc: 0.0872 - val_loss: 2.8050 - val_acc: 0.0000e+00\n",
      "Epoch 33/50\n",
      "149/149 [==============================] - 0s 528us/step - loss: 2.7006 - acc: 0.0872 - val_loss: 2.8039 - val_acc: 0.0000e+00\n",
      "Epoch 34/50\n",
      "149/149 [==============================] - 0s 444us/step - loss: 2.7023 - acc: 0.0738 - val_loss: 2.8032 - val_acc: 0.0000e+00\n",
      "Epoch 35/50\n",
      "149/149 [==============================] - 0s 434us/step - loss: 2.7007 - acc: 0.0872 - val_loss: 2.8024 - val_acc: 0.0000e+00\n",
      "Epoch 36/50\n",
      "149/149 [==============================] - 0s 441us/step - loss: 2.7011 - acc: 0.0738 - val_loss: 2.8018 - val_acc: 0.0000e+00\n",
      "Epoch 37/50\n",
      "149/149 [==============================] - 0s 434us/step - loss: 2.7028 - acc: 0.0940 - val_loss: 2.7972 - val_acc: 0.0000e+00\n",
      "Epoch 38/50\n",
      "149/149 [==============================] - 0s 437us/step - loss: 2.7007 - acc: 0.1007 - val_loss: 2.7933 - val_acc: 0.0000e+00\n",
      "Epoch 39/50\n",
      "149/149 [==============================] - 0s 427us/step - loss: 2.7006 - acc: 0.0940 - val_loss: 2.7895 - val_acc: 0.0000e+00\n",
      "Epoch 40/50\n",
      "149/149 [==============================] - 0s 431us/step - loss: 2.7027 - acc: 0.0604 - val_loss: 2.7874 - val_acc: 0.0000e+00\n",
      "Epoch 41/50\n",
      "149/149 [==============================] - 0s 437us/step - loss: 2.7027 - acc: 0.1007 - val_loss: 2.7867 - val_acc: 0.0000e+00\n",
      "Epoch 42/50\n",
      "149/149 [==============================] - 0s 437us/step - loss: 2.7001 - acc: 0.0805 - val_loss: 2.7889 - val_acc: 0.0000e+00\n",
      "Epoch 43/50\n",
      "149/149 [==============================] - 0s 431us/step - loss: 2.7025 - acc: 0.0671 - val_loss: 2.7909 - val_acc: 0.0000e+00\n",
      "Epoch 44/50\n",
      "149/149 [==============================] - 0s 444us/step - loss: 2.7017 - acc: 0.0604 - val_loss: 2.7934 - val_acc: 0.0000e+00\n",
      "Epoch 45/50\n",
      "149/149 [==============================] - 0s 444us/step - loss: 2.7025 - acc: 0.0738 - val_loss: 2.7953 - val_acc: 0.0000e+00\n",
      "Epoch 46/50\n",
      "149/149 [==============================] - 0s 434us/step - loss: 2.7013 - acc: 0.0872 - val_loss: 2.7937 - val_acc: 0.0000e+00\n",
      "Epoch 47/50\n",
      "149/149 [==============================] - 0s 441us/step - loss: 2.7016 - acc: 0.0671 - val_loss: 2.7909 - val_acc: 0.0000e+00\n",
      "Epoch 48/50\n",
      "149/149 [==============================] - 0s 440us/step - loss: 2.7032 - acc: 0.0805 - val_loss: 2.7898 - val_acc: 0.0000e+00\n",
      "Epoch 49/50\n",
      "149/149 [==============================] - 0s 434us/step - loss: 2.7029 - acc: 0.0738 - val_loss: 2.7896 - val_acc: 0.0000e+00\n",
      "Epoch 50/50\n",
      "149/149 [==============================] - 0s 427us/step - loss: 2.7011 - acc: 0.0940 - val_loss: 2.7918 - val_acc: 0.0000e+00\n"
     ]
    },
    {
     "data": {
      "text/plain": [
       "<keras.callbacks.History at 0x1a327d98550>"
      ]
     },
     "execution_count": 27,
     "metadata": {},
     "output_type": "execute_result"
    }
   ],
   "source": [
    "model.fit(X_train, Y_train, batch_size=64, nb_epoch=50, verbose=1, validation_data=(X_test, Y_test))"
   ]
  },
  {
   "cell_type": "code",
   "execution_count": 31,
   "metadata": {},
   "outputs": [
    {
     "name": "stdout",
     "output_type": "stream",
     "text": [
      "17/17 [==============================] - 0s 176us/step\n",
      "Test loss: 2.791778326034546\n",
      "Test accuracy: 0.0\n"
     ]
    }
   ],
   "source": [
    "score = model.evaluate(X_test, Y_test, verbose=1)\n",
    "print('Test loss:', score[0]) \n",
    "print('Test accuracy:', score[1])"
   ]
  },
  {
   "cell_type": "code",
   "execution_count": null,
   "metadata": {
    "collapsed": true
   },
   "outputs": [],
   "source": []
  }
 ],
 "metadata": {
  "kernelspec": {
   "display_name": "Python 3",
   "language": "python",
   "name": "python3"
  },
  "language_info": {
   "codemirror_mode": {
    "name": "ipython",
    "version": 3
   },
   "file_extension": ".py",
   "mimetype": "text/x-python",
   "name": "python",
   "nbconvert_exporter": "python",
   "pygments_lexer": "ipython3",
   "version": "3.6.3"
  }
 },
 "nbformat": 4,
 "nbformat_minor": 2
}
